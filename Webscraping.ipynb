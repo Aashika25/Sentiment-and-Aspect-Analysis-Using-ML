{
 "cells": [
  {
   "cell_type": "code",
   "execution_count": 1,
   "id": "f87fde8c",
   "metadata": {},
   "outputs": [],
   "source": [
    "import requests\n",
    "from bs4 import BeautifulSoup\n",
    "import pandas as pd"
   ]
  },
  {
   "cell_type": "code",
   "execution_count": 2,
   "id": "f5970165",
   "metadata": {},
   "outputs": [],
   "source": [
    "def cnt_rv(url):\n",
    "    page = requests.get(url)\n",
    "    soup = BeautifulSoup(page.content, 'html.parser')\n",
    "    rev=soup.find_all(class_=\"a-row a-spacing-base a-size-base\")\n",
    "    for i in rev:\n",
    "        a=i.text\n",
    "    a=a.split(\" \")\n",
    "    a=a[a.index('ratings,'):a.index(\"with\")][1]\n",
    "    return int(a.replace(\",\",\"\"))\n",
    "\n",
    "#\"https://www.amazon.in/HP-DeskJet-Inkjet-Colour-Printer/product-reviews/B08D9NDZ1Y/ref=cm_cr_getr_d_paging_btm_prev_2?ie=UTF8&reviewerType=all_reviews\""
   ]
  },
  {
   "cell_type": "code",
   "execution_count": 3,
   "id": "76c3a16e",
   "metadata": {},
   "outputs": [],
   "source": [
    "def request_response(url,w):\n",
    "    url=url+str(w)\n",
    "    page = requests.get(url)\n",
    "    soup = BeautifulSoup(page.content, 'html.parser')\n",
    "    rev=soup.find_all(class_='a-section celwidget')\n",
    "    return rev"
   ]
  },
  {
   "cell_type": "code",
   "execution_count": 4,
   "id": "be90caaf",
   "metadata": {},
   "outputs": [],
   "source": [
    "def parse_extract(rev,w,l):\n",
    "    for i in rev:\n",
    "        name,date,rating=\"a-profile-name\",\"a-size-base a-color-secondary review-date\",\"a-icon-alt\"\n",
    "        title=\"a-size-base a-link-normal review-title a-color-base review-title-content a-text-bold\"\n",
    "        review=\"a-size-base review-text review-text-content\"\n",
    "        for j,x,y,z,g in zip(i.find_all(class_=name),i.find_all(class_=date),i.find_all(class_=rating),i.find_all(class_=title),i.find_all(class_=review)):\n",
    "            l.append([w,j.text,x.text,y.text,z.text,g.text])"
   ]
  },
  {
   "cell_type": "code",
   "execution_count": 5,
   "id": "ddb2505d",
   "metadata": {},
   "outputs": [],
   "source": [
    "def all_pg(rv,url):\n",
    "    l=[]\n",
    "    while len(l)<rv:\n",
    "        k=len(l)\n",
    "        un=[]\n",
    "        for i in range(len(l)):\n",
    "            if not l[i][0] in un:\n",
    "                un.append(l[i][0])\n",
    "        for i in range(1,int(rv/10)):\n",
    "            if not i in un:\n",
    "                rev=request_response(url,i)\n",
    "                parse_extract(rev,i,l)\n",
    "        if len(l)==k:\n",
    "            break\n",
    "    sp1=pd.DataFrame(l,columns=['page_no','name','date','rating','title','review'])\n",
    "    sp1=sp1.sort_values(\"page_no\")\n",
    "    \n",
    "    return sp1"
   ]
  },
  {
   "cell_type": "code",
   "execution_count": null,
   "id": "13586cdb",
   "metadata": {},
   "outputs": [],
   "source": []
  }
 ],
 "metadata": {
  "kernelspec": {
   "display_name": "Python 3 (ipykernel)",
   "language": "python",
   "name": "python3"
  },
  "language_info": {
   "codemirror_mode": {
    "name": "ipython",
    "version": 3
   },
   "file_extension": ".py",
   "mimetype": "text/x-python",
   "name": "python",
   "nbconvert_exporter": "python",
   "pygments_lexer": "ipython3",
   "version": "3.9.7"
  }
 },
 "nbformat": 4,
 "nbformat_minor": 5
}
