{
 "cells": [
  {
   "cell_type": "code",
   "execution_count": 1,
   "id": "437c0708",
   "metadata": {},
   "outputs": [
    {
     "name": "stderr",
     "output_type": "stream",
     "text": [
      "[nltk_data] Downloading package averaged_perceptron_tagger to\n",
      "[nltk_data]     C:\\Users\\aashi\\AppData\\Roaming\\nltk_data...\n",
      "[nltk_data]   Package averaged_perceptron_tagger is already up-to-\n",
      "[nltk_data]       date!\n"
     ]
    },
    {
     "data": {
      "text/plain": [
       "True"
      ]
     },
     "execution_count": 1,
     "metadata": {},
     "output_type": "execute_result"
    }
   ],
   "source": [
    "import gspread\n",
    "from oauth2client.service_account import ServiceAccountCredentials\n",
    "from df2gspread import df2gspread as d2g\n",
    "from collections import Counter\n",
    "from heapq import nlargest\n",
    "import enchant\n",
    "import pandas as pd\n",
    "from nltk import pos_tag, word_tokenize\n",
    "import nltk\n",
    "import ast\n",
    "nltk.download('averaged_perceptron_tagger')  "
   ]
  },
  {
   "cell_type": "code",
   "execution_count": 2,
   "id": "34590881",
   "metadata": {},
   "outputs": [],
   "source": [
    "def aspect(df):\n",
    "    asp=[]\n",
    "    for i in df.index:\n",
    "        q=[]\n",
    "        s=\"\"\n",
    "        for j in df['review'][i]:\n",
    "            s+=\" \"+j\n",
    "        l=nltk.pos_tag(nltk.word_tokenize(s))\n",
    "        for k in l:\n",
    "            v=[k][0][1]\n",
    "            if(v == 'NN' or v == 'NNS' or v == 'NNPS' or v == 'NNP'):\n",
    "                q.append([k][0][0])\n",
    "                q=list(set(q))\n",
    "        asp.append(q)\n",
    "    df[\"aspect\"]=[0]*len(df)\n",
    "    for i in range(len(asp)):\n",
    "        df.iat[i, df.columns.get_loc('aspect')]=asp[i]\n",
    "    return df"
   ]
  },
  {
   "cell_type": "code",
   "execution_count": 3,
   "id": "9208f0e1",
   "metadata": {},
   "outputs": [],
   "source": [
    "def new_asp(df):\n",
    "    doc=Counter([j for i in df[\"aspect\"] for j in i if not j==\"product\"])\n",
    "    dict = enchant.Dict(\"en_US\")\n",
    "    aspect_l =[]\n",
    "    aspect_l = nlargest(20, doc, key = doc.get)\n",
    "    remove_l=[]\n",
    "    for i in aspect_l:\n",
    "        v=input(f'press enter if u want to remove \"{i}\" from the aspect list')\n",
    "        if v==\"\":\n",
    "            remove_l.append(i)\n",
    "    aspect_l = list(set(aspect_l) - set(remove_l))\n",
    "    df_new=[]\n",
    "    df[\"new_aspect\"]=[0]*len(df)\n",
    "    for j in df.index:\n",
    "        for i in aspect_l:\n",
    "            if i in df[\"aspect\"][j]:\n",
    "                if df[\"new_aspect\"][j]==0:\n",
    "                    df[\"new_aspect\"][j]=i\n",
    "                else:\n",
    "                    df_new.append(df.loc[[j],:].values[0])\n",
    "                    df_new[len(df_new)-1][len(df.columns)-1]=i\n",
    "    df_new=pd.DataFrame(data=df_new,columns=df.columns)\n",
    "    df=pd.concat([df,df_new],axis=0,ignore_index=True)\n",
    "    return df"
   ]
  },
  {
   "cell_type": "code",
   "execution_count": 4,
   "id": "37c39c7f",
   "metadata": {},
   "outputs": [],
   "source": [
    "def transfer_gs(df):\n",
    "    scope = ['https://spreadsheets.google.com/feeds','https://www.googleapis.com/auth/drive']\n",
    "    credentials = ServiceAccountCredentials.from_json_keyfile_name(\"sixth-trainer-355613-27cbe6e7f640.json\", scopes=scope)\n",
    "    gc = gspread.authorize(credentials)\n",
    "    spreadsheet_key=\"1W1L6i7F9ymrSyaXkM3_l0PwsSoiQBe9rxabcz4GT1I8\"\n",
    "    wks_name= \"senti_data\"\n",
    "    d2g.upload(df, spreadsheet_key, wks_name, credentials=credentials, row_names=True)\n",
    "    print(\"data upload success\")"
   ]
  }
 ],
 "metadata": {
  "kernelspec": {
   "display_name": "Python 3 (ipykernel)",
   "language": "python",
   "name": "python3"
  },
  "language_info": {
   "codemirror_mode": {
    "name": "ipython",
    "version": 3
   },
   "file_extension": ".py",
   "mimetype": "text/x-python",
   "name": "python",
   "nbconvert_exporter": "python",
   "pygments_lexer": "ipython3",
   "version": "3.9.7"
  }
 },
 "nbformat": 4,
 "nbformat_minor": 5
}
